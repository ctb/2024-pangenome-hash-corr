{
 "cells": [
  {
   "cell_type": "markdown",
   "id": "64f86e57-ea80-4397-b570-9cbe5a29de18",
   "metadata": {},
   "source": [
    "# Try using HDBSCAN to cluster things\n",
    "\n",
    "Links:\n",
    "* [HDBSCAN vs other clustering algorithms - an exploration](https://hdbscan.readthedocs.io/en/latest/comparing_clustering_algorithms.html)\n",
    "* [sklearn HDBSCAN docs](https://scikit-learn.org/stable/modules/generated/sklearn.cluster.HDBSCAN.html)"
   ]
  },
  {
   "cell_type": "markdown",
   "id": "6e9f917f-b17e-4cdd-be23-b3d813e8acbb",
   "metadata": {},
   "source": [
    "## Notes to self\n",
    "\n",
    "do we need to normalize the data?\n",
    "should try different distance metrics? euclidean, vs?\n",
    "\n",
    "# TODO\n",
    "\n",
    "* metrics: what fraction of hashes clustered; coherence (??) of clusters;\n",
    "* downstream: which clusters in which samples?"
   ]
  },
  {
   "cell_type": "code",
   "execution_count": 1,
   "id": "fc23c764-71b7-4d16-9f6b-0b003222b1c8",
   "metadata": {},
   "outputs": [],
   "source": [
    "from sourmash import sourmash_args\n",
    "import numpy\n",
    "import seaborn as sns\n",
    "import sklearn.cluster\n",
    "import matplotlib.pyplot as plt\n",
    "from collections import defaultdict\n",
    "from matplotlib.lines import Line2D\n",
    "\n",
    "from hash_presence_lib import HashPresenceInformation\n"
   ]
  },
  {
   "cell_type": "markdown",
   "id": "a2a7cfb8-7e83-4a70-917c-579c8240606f",
   "metadata": {},
   "source": [
    "## Load presence information"
   ]
  },
  {
   "cell_type": "code",
   "execution_count": 2,
   "id": "7d6573ce-caad-4d3d-9dab-ebaa32b57beb",
   "metadata": {},
   "outputs": [],
   "source": [
    "presence_dump = 'agatha-genomes.1k.dump'\n",
    "scaled=10000\n",
    "min_presence_threshold=5"
   ]
  },
  {
   "cell_type": "code",
   "execution_count": 3,
   "id": "204de5d7-7ec6-4120-8684-43e21ffef40e",
   "metadata": {},
   "outputs": [
    {
     "name": "stdout",
     "output_type": "stream",
     "text": [
      "loaded 27398 hash to sample entries.\n"
     ]
    }
   ],
   "source": [
    "presence_info = HashPresenceInformation.load_from_file(presence_dump)\n",
    "print(f\"loaded {len(presence_info.hash_to_sample)} hash to sample entries.\")"
   ]
  },
  {
   "cell_type": "code",
   "execution_count": 4,
   "id": "c1329ff2-f3c7-4a15-b142-bc1aec175836",
   "metadata": {},
   "outputs": [
    {
     "name": "stdout",
     "output_type": "stream",
     "text": [
      "downsampled to scaled=10000; 2692 hashes left.\n"
     ]
    }
   ],
   "source": [
    "presence_info = presence_info.downsample(scaled)\n",
    "print(f\"downsampled to scaled={presence_info.scaled}; {len(presence_info.hash_to_sample)} hashes left.\")"
   ]
  },
  {
   "cell_type": "code",
   "execution_count": 5,
   "id": "d24f2f3c-a863-467a-bfad-65506ea3fb7f",
   "metadata": {},
   "outputs": [
    {
     "name": "stdout",
     "output_type": "stream",
     "text": [
      "filtered to min_presence=5; 608 hashes left.\n"
     ]
    }
   ],
   "source": [
    "presence_info = presence_info.filter_by_min_samples(min_presence_threshold)\n",
    "print(f\"filtered to min_presence={min_presence_threshold}; {len(presence_info.hash_to_sample)} hashes left.\")"
   ]
  },
  {
   "cell_type": "markdown",
   "id": "1bcdab6f-f4a9-4e8b-917a-f2859ee7abca",
   "metadata": {},
   "source": [
    "## Cluster by hash association using `HDBSCAN`"
   ]
  },
  {
   "cell_type": "code",
   "execution_count": 6,
   "id": "21331504-0882-4776-b420-113b4a4d5410",
   "metadata": {},
   "outputs": [
    {
     "name": "stdout",
     "output_type": "stream",
     "text": [
      "creating 608 by 608 array.\n"
     ]
    }
   ],
   "source": [
    "assoc_hashvals, assoc_cmp = presence_info.build_association_matrix()\n",
    "assert len(assoc_hashvals) == len(presence_info.hash_to_sample)"
   ]
  },
  {
   "cell_type": "code",
   "execution_count": 7,
   "id": "2c790136-05f2-4758-b0ef-83509965df7a",
   "metadata": {},
   "outputs": [
    {
     "name": "stdout",
     "output_type": "stream",
     "text": [
      "got 5 labels\n"
     ]
    },
    {
     "ename": "NameError",
     "evalue": "name 'cmp' is not defined",
     "output_type": "error",
     "traceback": [
      "\u001b[0;31m---------------------------------------------------------------------------\u001b[0m",
      "\u001b[0;31mNameError\u001b[0m                                 Traceback (most recent call last)",
      "Cell \u001b[0;32mIn[7], line 8\u001b[0m\n\u001b[1;32m      5\u001b[0m palette \u001b[38;5;241m=\u001b[39m sns\u001b[38;5;241m.\u001b[39mcolor_palette(\u001b[38;5;124m'\u001b[39m\u001b[38;5;124mdeep\u001b[39m\u001b[38;5;124m'\u001b[39m, numpy\u001b[38;5;241m.\u001b[39munique(labels)\u001b[38;5;241m.\u001b[39mmax() \u001b[38;5;241m+\u001b[39m \u001b[38;5;241m1\u001b[39m)\n\u001b[1;32m      6\u001b[0m cluster_colors \u001b[38;5;241m=\u001b[39m [palette[x] \u001b[38;5;28;01mif\u001b[39;00m x \u001b[38;5;241m>\u001b[39m\u001b[38;5;241m=\u001b[39m \u001b[38;5;241m0\u001b[39m \u001b[38;5;28;01melse\u001b[39;00m (\u001b[38;5;241m0.0\u001b[39m, \u001b[38;5;241m0.0\u001b[39m, \u001b[38;5;241m0.0\u001b[39m) \u001b[38;5;28;01mfor\u001b[39;00m x \u001b[38;5;129;01min\u001b[39;00m labels]\n\u001b[0;32m----> 8\u001b[0m fig \u001b[38;5;241m=\u001b[39m sns\u001b[38;5;241m.\u001b[39mclustermap(\u001b[43mcmp\u001b[49m, xticklabels\u001b[38;5;241m=\u001b[39m[], yticklabels\u001b[38;5;241m=\u001b[39m[], figsize\u001b[38;5;241m=\u001b[39m(\u001b[38;5;241m6\u001b[39m, \u001b[38;5;241m6\u001b[39m), row_colors\u001b[38;5;241m=\u001b[39mcluster_colors) \u001b[38;5;66;03m# pangenome_colors\u001b[39;00m\n",
      "\u001b[0;31mNameError\u001b[0m: name 'cmp' is not defined"
     ]
    }
   ],
   "source": [
    "min_cluster_size=15\n",
    "labels = sklearn.cluster.HDBSCAN(min_cluster_size=min_cluster_size).fit_predict(1 - assoc_cmp)\n",
    "\n",
    "print(f'got {numpy.unique(labels).max() + 1} labels')\n",
    "palette = sns.color_palette('deep', numpy.unique(labels).max() + 1)\n",
    "cluster_colors = [palette[x] if x >= 0 else (0.0, 0.0, 0.0) for x in labels]\n",
    "\n",
    "fig = sns.clustermap(cmp, xticklabels=[], yticklabels=[], figsize=(6, 6), row_colors=cluster_colors) # pangenome_colors"
   ]
  },
  {
   "cell_type": "markdown",
   "id": "5de847df-9b42-4f0d-8b9b-dec5f383a97d",
   "metadata": {},
   "source": [
    "### Display a t-SNE analysis of the points + clusters"
   ]
  },
  {
   "cell_type": "code",
   "execution_count": null,
   "id": "382a0350-6e24-4e59-ab79-79dd4a9f2d4e",
   "metadata": {},
   "outputs": [],
   "source": [
    "tsne = sklearn.manifold.TSNE(n_components=2, random_state=42, perplexity=50) # play with: perplexity\n",
    "tsne_coords = tsne.fit_transform(1 - assoc_cmp)"
   ]
  },
  {
   "cell_type": "code",
   "execution_count": null,
   "id": "4be0b6c4-161e-43f9-aa85-14954ef0cece",
   "metadata": {},
   "outputs": [],
   "source": [
    "plt.scatter(tsne_coords[:, 0], tsne_coords[:, 1], color=cluster_colors)\n",
    "plt.xlabel(\"Dimension 1\")\n",
    "plt.ylabel(\"Dimension 2\")"
   ]
  },
  {
   "cell_type": "code",
   "execution_count": null,
   "id": "d317a680-d583-4e82-ab83-b3e36103c718",
   "metadata": {},
   "outputs": [],
   "source": [
    "## ok, pull out the clusters\n",
    "clusters_d = defaultdict(set)\n",
    "\n",
    "for hashval, cluster_num in zip(assoc_hashvals, labels):\n",
    "    if cluster_num >= 0:\n",
    "        clusters_d[cluster_num].add(hashval)\n",
    "\n",
    "print(f\"Got {len(clusters_d)} clusters.\")"
   ]
  },
  {
   "cell_type": "code",
   "execution_count": null,
   "id": "e7972af4-c0e0-4481-a5da-b6250e8cd261",
   "metadata": {},
   "outputs": [],
   "source": [
    "for k, v in sorted(clusters_d.items(), key=lambda v: -len(v[1])):\n",
    "    print(f\"cluster {k} has size {len(v)}\")\n",
    "\n",
    "print(sum([ len(v) for v in clusters_d.values() ]), 'clustered, of', len(hashvals), 'total')"
   ]
  },
  {
   "cell_type": "markdown",
   "id": "db360495-a45f-49e2-80ef-9a1d0ea059e5",
   "metadata": {},
   "source": [
    "## Plot a sample by hash presence matrix"
   ]
  },
  {
   "cell_type": "code",
   "execution_count": null,
   "id": "08cda945-1d82-4628-90e9-6132f0e67af1",
   "metadata": {},
   "outputs": [],
   "source": [
    "_, _, presence_mat = presence_info.build_presence_matrix()\n",
    "sns.clustermap(presence_mat, xticklabels=[], yticklabels=[], figsize=(8, 5), col_colors=cluster_colors)"
   ]
  },
  {
   "cell_type": "code",
   "execution_count": null,
   "id": "6dc5a2c9-707f-4388-a275-7de43725f145",
   "metadata": {},
   "outputs": [],
   "source": []
  }
 ],
 "metadata": {
  "kernelspec": {
   "display_name": "Python 3 (ipykernel)",
   "language": "python",
   "name": "python3"
  },
  "language_info": {
   "codemirror_mode": {
    "name": "ipython",
    "version": 3
   },
   "file_extension": ".py",
   "mimetype": "text/x-python",
   "name": "python",
   "nbconvert_exporter": "python",
   "pygments_lexer": "ipython3",
   "version": "3.11.6"
  }
 },
 "nbformat": 4,
 "nbformat_minor": 5
}
